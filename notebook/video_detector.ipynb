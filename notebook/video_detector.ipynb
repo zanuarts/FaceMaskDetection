{
 "cells": [
  {
   "cell_type": "code",
   "execution_count": null,
   "metadata": {},
   "outputs": [],
   "source": [
    "\n",
    "import tensorflow as tf\n",
    "from tensorflow.keras.models import Model, load_model\n",
    "import numpy as np\n",
    "from IPython.display import display\n",
    "import glob\n",
    "import os\n",
    "import cv2\n",
    "from tensorflow.keras.preprocessing.image import img_to_array\n",
    "from tensorflow.keras.preprocessing.image import load_img\n",
    "import matplotlib.pyplot as plt\n",
    "from imutils.video import VideoStream\n",
    "import imutils"
   ]
  },
  {
   "cell_type": "code",
   "execution_count": null,
   "metadata": {},
   "outputs": [],
   "source": [
    "\n",
    "my_model = load_model('model_cnn.h5')\n",
    "prototxt_path = \"deploy.prototxt\"\n",
    "weight_path = \"res10_300x300_ssd_iter_140000.caffemodel\"\n",
    "faceNet = cv2.dnn.readNet(prototxt_path, weight_path)"
   ]
  },
  {
   "cell_type": "code",
   "execution_count": null,
   "metadata": {},
   "outputs": [],
   "source": [
    "def detectPredictMask(frame, faceNet, maskNet):\n",
    "    # Grab the dimensions of the frame and then construct a blob from it\n",
    "    (h, w) = frame.shape[:2]\n",
    "    blob = cv2.dnn.blobFromImage(frame, 1.0, (300, 300),(104.0, 177.0, 123.0))\n",
    "\n",
    "    # Pass the blob through the network and obtain the face detections\n",
    "    faceNet.setInput(blob)\n",
    "    detections = faceNet.forward()\n",
    "\n",
    "    # Compute the (x, y)-coordinates of the bounding box for the object\n",
    "    box = detections[0, 0, 0, 3:7] * np.array([w, h, w, h])\n",
    "    (startX, startY, endX, endY) = box.astype(\"int\")\n",
    "\n",
    "    # Ensure the bounding boxes fall within the dimensions of the frame\n",
    "    (startX, startY) = (max(0, startX), max(0, startY))\n",
    "    (endX, endY) = (min(w - 1, endX), min(h - 1, endY))\n",
    "\n",
    "    # Extract the face ROI, convert it from BGR to RGB channel\n",
    "    # Ordering, resize it to 256x256, and preprocess it\n",
    "    face = frame[startY:endY, startX:endX]\n",
    "    face = cv2.cvtColor(face, cv2.COLOR_BGR2RGB)\n",
    "    face = cv2.resize(face, (224, 224))\n",
    "    img = np.array(face, dtype='float')\n",
    "    img = img.reshape(1, 224, 224, 3)\n",
    "    \n",
    "    # Predict the frame\n",
    "    preds = maskNet.predict(img)\n",
    "\n",
    "    # Return a 2-tuple of the face locations and their corresponding locations\n",
    "    return ((startX, startY, endX, endY), preds[0][0])"
   ]
  },
  {
   "cell_type": "code",
   "execution_count": null,
   "metadata": {},
   "outputs": [],
   "source": [
    "# for fn in uploaded.keys():\n",
    "#     path = fn\n",
    "#     img = image.load_img(pasth,target_size=(224,224))\n",
    "#     plt.imshow(img)\n",
    "#     plt.axis('off')\n",
    "#     plt.show()\n",
    "    \n",
    "#     img=np.array(img, dtype = 'float')\n",
    "#     img = img.reshape (1,224,224,3)\n",
    "#     model = load_model()\n",
    "#     my_model = load_model ('model.h5')\n",
    "#     prediksi= model.predict(img)\n",
    "#     idx = prediksi[0][0]\n",
    "#     if (idx):\n",
    "#         print(\"Not Wearing Masker\")\n",
    "#     else:\n",
    "#         print(\"wearing masker\")"
   ]
  },
  {
   "cell_type": "code",
   "execution_count": null,
   "metadata": {},
   "outputs": [],
   "source": [
    "vs = VideoStream(src=0).start()\n",
    "\n",
    "while True:\n",
    "    frame = vs.read()\n",
    "    frame = imutils.resize(frame)\n",
    "    \n",
    "    (locs, preds) = detectPredictMask(frame, faceNet, my_model)\n",
    "    \n",
    "    # Unpack the bounding box and predictions\n",
    "    (startX, startY, endX, endY) = locs\n",
    "    result = preds\n",
    "        \n",
    "    # Determine the class label and color we'll use to draw the bounding box and text\n",
    "    color = (0, 225, 0)\n",
    "    status =\"Wearing Mask\"\n",
    "    if (result == 1):\n",
    "        status =\"not Wearing Mask\"\n",
    "        color = (0, 0, 225)\n",
    "\n",
    "    font = cv2.FONT_HERSHEY_DUPLEX\n",
    "\n",
    "    stroke = 1\n",
    "    cv2.putText(frame, status, (startX, startY - 10), font, 0.5, color, stroke, cv2.LINE_AA)\n",
    "\n",
    "    stroke = 2\n",
    "    cv2.rectangle(frame, (startX, startY), (endX, endY), color, stroke)\n",
    "        \n",
    "    # Showing frame\n",
    "    cv2.imshow('DETECTING', frame)\n",
    "    \n",
    "    # Turn of camera \n",
    "    if cv2.waitKey(2) & 0xFF == ord('q'):\n",
    "        cv2.destroyAllWindows()\n",
    "        vs.stop()"
   ]
  }
 ],
 "metadata": {
  "kernelspec": {
   "display_name": "Python 3",
   "language": "python",
   "name": "python3"
  },
  "language_info": {
   "codemirror_mode": {
    "name": "ipython",
    "version": 3
   },
   "file_extension": ".py",
   "mimetype": "text/x-python",
   "name": "python",
   "nbconvert_exporter": "python",
   "pygments_lexer": "ipython3",
   "version": "3.7.4"
  }
 },
 "nbformat": 4,
 "nbformat_minor": 2
}
