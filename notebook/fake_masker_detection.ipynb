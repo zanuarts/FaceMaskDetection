{
  "nbformat": 4,
  "nbformat_minor": 0,
  "metadata": {
    "colab": {
      "name": "aweu.ipynb",
      "provenance": [],
      "collapsed_sections": []
    },
    "kernelspec": {
      "name": "python3",
      "display_name": "Python 3",
      "language": "python"
    },
    "accelerator": "GPU"
  },
  "cells": [
    {
      "cell_type": "code",
      "metadata": {
        "id": "rhLngxOg-L_p"
      },
      "source": [
        "import tensorflow as tf\n",
        "from tensorflow.keras.models import Model, load_model\n",
        "import numpy as np\n",
        "from IPython.display import display\n",
        "import glob\n",
        "import os\n",
        "import cv2\n",
        "from tensorflow.keras.preprocessing.image import img_to_array\n",
        "from tensorflow.keras.preprocessing.image import load_img\n",
        "import matplotlib.pyplot as plt\n",
        "from imutils.video import VideoStream\n",
        "import imutils\n",
        "# from google.colab.patches import cv2_imshow\n",
        "import cv2"
      ],
      "execution_count": 3,
      "outputs": []
    },
    {
      "cell_type": "code",
      "metadata": {
        "id": "vEh_Gt_V-RjR"
      },
      "source": [
        "model = load_model('../model/model_cnn.h5')\n",
        "prototxt_path = \"../detector/deploy.prototxt\"\n",
        "weight_path = \"../detector/res10_300x300_ssd_iter_140000.caffemodel\"\n",
        "faceNet = cv2.dnn.readNet(prototxt_path, weight_path)"
      ],
      "execution_count": 5,
      "outputs": []
    },
    {
      "cell_type": "code",
      "metadata": {
        "id": "DYOM3omi-PBR"
      },
      "source": [
        "def detectMask(pic, faceNet, maskNet):\r\n",
        "  (h, w) = pic.shape[:2]\r\n",
        "  blob = cv2.dnn.blobFromImage(image, 1.0, (300, 300),(104.0, 177.0, 123.0))\r\n",
        "\r\n",
        "  # size = 4\r\n",
        "\r\n",
        "  faceNet.setInput(blob)\r\n",
        "  detections = faceNet.forward()\r\n",
        "  \r\n",
        "  for i in range(0, detections.shape[2]):\r\n",
        "    box = detections[0, 0, 0, 3:7] * np.array([w, h, w, h])\r\n",
        "    (startX, startY, endX, endY) = box.astype(\"int\")\r\n",
        "\r\n",
        "    (startX, startY) = (max(0, startX), max(0, startY))\r\n",
        "    (endX, endY) = (min(w - 1, endX), min(h - 1, endY))\r\n",
        "\r\n",
        "    # mini = cv2.resize(im, (im.shape[1] // size, im.shape[0] // size))\r\n",
        "\r\n",
        "    face = image[startY:endY, startX:endX]\r\n",
        "    # face = cv2.resize(face, (face.shape[1] // size, face.shape[0] // size))\r\n",
        "    face = cv2.cvtColor(face, cv2.COLOR_BGR2RGB)\r\n",
        "    face = cv2.resize(face, (224, 224))\r\n",
        "    img = np.array(face, dtype='float')\r\n",
        "    img = img.reshape(1, 224, 224, 3)\r\n",
        "\r\n",
        "    preds = maskNet.predict(img)\r\n",
        "    # print(status)\r\n",
        "    # (startX, startY, endX, endY) = locs\r\n",
        "    result = preds\r\n",
        "\r\n",
        "    color = (0, 255, 0)\r\n",
        "    status =\" Wearing Mask\"\r\n",
        "    if (result == 1):\r\n",
        "      status =\" Not Wearing Mask\"\r\n",
        "      color = (0, 0, 255)\r\n",
        "\r\n",
        "    font = cv2.FONT_HERSHEY_DUPLEX\r\n",
        "\r\n",
        "    stroke = 1\r\n",
        "    cv2.putText(image, status, (startX, startY - 10), font, 0.5, color, stroke, cv2.LINE_AA)\r\n",
        "\r\n",
        "    stroke = 2\r\n",
        "    cv2.rectangle(image, (startX, startY), (endX, endY), color, stroke)\r\n",
        "\r\n",
        "  return image"
      ],
      "execution_count": 6,
      "outputs": []
    },
    {
      "cell_type": "code",
      "metadata": {
        "id": "dCAhgz3l8huM",
        "colab": {
          "base_uri": "https://localhost:8080/",
          "height": 1000
        },
        "outputId": "40b87598-8bc8-4f4a-e9e5-c38513904e8f"
      },
      "source": [
        "image = cv2.imread('../static/img/uploaded/gambar1.jpeg')\n",
        "\n",
        "image = imutils.resize(image)\n",
        "\n",
        "image = detectMask(image, faceNet, model)\n",
        "\n",
        "cv2.imshow('output', image)"
      ],
      "execution_count": 10,
      "outputs": []
    }
  ]
}